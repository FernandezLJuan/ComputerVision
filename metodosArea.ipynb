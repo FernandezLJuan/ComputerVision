{
 "cells": [
  {
   "cell_type": "code",
   "execution_count": 18,
   "id": "76348112",
   "metadata": {},
   "outputs": [],
   "source": [
    "import cv2\n",
    "import numpy as np \n",
    "from matplotlib import pyplot as plt\n",
    "import pandas as pd\n",
    "import imutils\n",
    "from sklearn.model_selection import train_test_split\n",
    "from sklearn.metrics import confusion_matrix,precision_score,recall_score,f1_score"
   ]
  },
  {
   "cell_type": "code",
   "execution_count": 19,
   "id": "b7d5fc3a",
   "metadata": {},
   "outputs": [],
   "source": [
    "def calcularHu(imaxe):\n",
    "    contours=cv2.findContours(imaxe2.copy(), cv2.RETR_EXTERNAL, cv2.CHAIN_APPROX_SIMPLE)\n",
    "    cnts = imutils.grab_contours(contours)\n",
    "\n",
    "    for (i, c) in enumerate(cnts):\n",
    "        (x, y, w, h) = cv2.boundingRect(c)\n",
    "        roi = imaxe2[y:y + h, x:x + w]\n",
    "        Hu = cv2.HuMoments(cv2.moments(roi)).flatten()\n",
    "        \n",
    "    return Hu"
   ]
  },
  {
   "cell_type": "code",
   "execution_count": 28,
   "id": "f87dc805",
   "metadata": {},
   "outputs": [
    {
     "name": "stdout",
     "output_type": "stream",
     "text": [
      "[ 1.44090556e-03  1.16764113e-06  1.47202321e-10  1.42990728e-10\n",
      "  2.07028249e-20  1.54512126e-13 -1.32641411e-21]\n"
     ]
    },
    {
     "data": {
      "image/png": "[encoded data removed]",
      "text/plain": [
       "<Figure size 640x480 with 1 Axes>"
      ]
     },
     "metadata": {},
     "output_type": "display_data"
    }
   ],
   "source": [
    "img1=cv2.imread('probasSimples/cadrado3.png',0)\n",
    "\n",
    "Hu=calcularHu(img1)\n",
    "\n",
    "print(Hu)\n",
    "\n",
    "t=np.arange(0,len(Hu),1)\n",
    "plt.imshow(img1,cmap=\"gray\")\n",
    "plt.show()"
   ]
  },
  {
   "cell_type": "code",
   "execution_count": 29,
   "id": "e81c70be",
   "metadata": {},
   "outputs": [
    {
     "name": "stdout",
     "output_type": "stream",
     "text": [
      "[ 1.44090556e-03  1.16764113e-06  1.47202321e-10  1.42990728e-10\n",
      "  2.07028249e-20  1.54512126e-13 -1.32641411e-21]\n"
     ]
    },
    {
     "data": {
      "image/png": "[encoded data removed]",
      "text/plain": [
       "<Figure size 640x480 with 1 Axes>"
      ]
     },
     "metadata": {},
     "output_type": "display_data"
    }
   ],
   "source": [
    "img2=cv2.imread('probasSimples/cadrado4.png',0)\n",
    "\n",
    "Hu=calcularHu(img2)\n",
    "\n",
    "print(Hu)\n",
    "\n",
    "t=np.arange(0,len(Hu),1)\n",
    "plt.imshow(img2,cmap=\"gray\")\n",
    "plt.show()"
   ]
  },
  {
   "cell_type": "markdown",
   "id": "06e2142a",
   "metadata": {},
   "source": [
    "<h2>Extracción de contornos e construcion dos datos</h2>\n",
    "\n",
    "Tomamos as imaxes de ambos paths, obtemos os contornos empregando a aproximación de Ten Chin, o cal aumenta a precisión e o rendemento do clasificador. Se a imaxe é unha botella, pertence a clase 1, senón, a clase 0."
   ]
  },
  {
   "cell_type": "code",
   "execution_count": 30,
   "id": "c201d9dd",
   "metadata": {},
   "outputs": [],
   "source": [
    "imgPaths = ['botellas/', 'bolboretas/','cubertos/']\n",
    "numImages = [65, 20,32]  # especificar o numero de imaxes en cada path\n",
    "dataset = open('ClasificadoresBy/dataset6.csv', 'w')\n",
    "\n",
    "for imgPath, imNum in zip(imgPaths, numImages):\n",
    "    \n",
    "    if 'botellas/' in imgPath:\n",
    "        label=',1'\n",
    "        \n",
    "    elif 'bolboretas/' in imgPath:\n",
    "        label=',0'\n",
    "        \n",
    "    elif 'cubertos/' in imgPath:\n",
    "        label=',2'\n",
    "\n",
    "    for index in range(imNum):\n",
    "        img = cv2.imread(imgPath + str(index + 1) + '.jpg')\n",
    "\n",
    "        if 'bolboretas/' in imgPath and index == 15:\n",
    "            continue\n",
    "\n",
    "        imaxe2 = cv2.cvtColor(img, cv2.COLOR_RGB2GRAY)\n",
    "        \n",
    "        Hu=calcularHu(imaxe2)\n",
    "\n",
    "        Hu_str = \",\".join(map(str, Hu))\n",
    "\n",
    "        dataset.write(Hu_str + label)\n",
    "        dataset.write('\\n')\n",
    "\n",
    "dataset.close()"
   ]
  },
  {
   "cell_type": "markdown",
   "id": "590a137e",
   "metadata": {},
   "source": [
    "<h2>Clase encargada de manexar os datos e dividir o dataset en coxunto de adestramento e de test</h2>"
   ]
  },
  {
   "cell_type": "code",
   "execution_count": 4,
   "id": "9e6d5303",
   "metadata": {},
   "outputs": [],
   "source": [
    "class Data:\n",
    "    trainData: np.array\n",
    "    testData: np.array\n",
    "    trainLabel: np.array\n",
    "    testLabel: np.array\n",
    "\n",
    "    def __init__(self, data, split_rate=0.2, bias=True, normal=False):\n",
    "        self.trainData: np.array\n",
    "        self.testData: np.array\n",
    "        self.trainLabel: np.array\n",
    "        self.testLabel: np.array\n",
    "        self.split_rare = split_rate\n",
    "        self.data = data\n",
    "        self.bias = bias\n",
    "        self.normal = normal\n",
    "        self.prepare_data()\n",
    "\n",
    "    def prepare_data(self):\n",
    "        if self.normal:\n",
    "            self.normalizer()\n",
    "\n",
    "        if self.bias:\n",
    "            self.data = np.insert(self.data, 0, 1, axis=1)\n",
    "\n",
    "        self.trainData, self.testData, self.trainLabel, self.testLabel = train_test_split(self.data[:, :-1],\n",
    "                                                                                          self.data[:, -1],\n",
    "                                                                                          test_size=self.split_rare,\n",
    "                                                                                          random_state=42)\n",
    "\n",
    "    def normalizer(self):\n",
    "        norm = np.linalg.norm(self.data[:, :-1])\n",
    "        self.data[:, :-1] = self.data[:, :-1] / norm"
   ]
  },
  {
   "cell_type": "markdown",
   "id": "f7f6f1c0",
   "metadata": {},
   "source": [
    "<h3>Cálculo da accuracy e función para cargar os datos</h3>"
   ]
  },
  {
   "cell_type": "code",
   "execution_count": 5,
   "id": "cc0d2cfa",
   "metadata": {},
   "outputs": [],
   "source": [
    "def accuracy_metric(actual, predicted):\n",
    "    correct = 0\n",
    "    for i in range(len(actual)):\n",
    "        if actual[i] == predicted[i]:\n",
    "            correct += 1\n",
    "    return correct / float(len(actual)) * 100.0\n",
    "\n",
    "\n",
    "def load_data(path, array=True):\n",
    "    train = pd.read_csv(path)\n",
    "    if array:\n",
    "        train = train.to_numpy()\n",
    "    return train"
   ]
  },
  {
   "cell_type": "markdown",
   "id": "4d2d5931",
   "metadata": {},
   "source": [
    "<h2>Clase que contén o clasificador bayesiano cadrático</h2>"
   ]
  },
  {
   "cell_type": "code",
   "execution_count": 14,
   "id": "30370675",
   "metadata": {},
   "outputs": [],
   "source": [
    "class ByQuadratic:\n",
    "    def __init__(self, data):\n",
    "        self.data = data\n",
    "        self.class_name_list = np.unique(data.trainLabel)\n",
    "        self.class_name_list.sort()\n",
    "        self.means = None\n",
    "        self.priors = None\n",
    "        self.covariance_matrix = None\n",
    "\n",
    "    def calculate_prior(self):\n",
    "        prior = np.zeros(self.class_name_list.size)\n",
    "        for index, className in enumerate(self.class_name_list):\n",
    "            prior[index] = self.data.trainLabel[self.data.trainLabel == className].size \\\n",
    "                           / self.data.trainLabel.size\n",
    "        self.priors = prior\n",
    "\n",
    "    def calculate_mean(self):\n",
    "        means = np.zeros((self.class_name_list.size, self.data.trainData.shape[1]))\n",
    "        covariance_matrix = []\n",
    "        for index, className in enumerate(self.class_name_list):\n",
    "            row_data = self.data.trainData[self.data.trainLabel == className]\n",
    "            mean = np.asmatrix(np.mean(row_data, axis=0))\n",
    "            means[index] = mean\n",
    "            cov_matrix = (row_data - mean).T @ (row_data - mean) / self.data.trainData.shape[0]\n",
    "            covariance_matrix.append(cov_matrix)\n",
    "\n",
    "        self.means = means\n",
    "        self.covariance_matrix = covariance_matrix\n",
    "\n",
    "    def predict(self, data):\n",
    "        probs = np.asmatrix(np.zeros((data.shape[0], self.priors.size)))\n",
    "        for index, class_abel in enumerate(self.class_name_list):\n",
    "            probs[:, index] = self.probability(data, index)\n",
    "        return np.argmax(probs, axis=1)\n",
    "\n",
    "    def probability(self, data, index):\n",
    "        X = np.asmatrix(data)\n",
    "        cov_matrix_det = np.linalg.det(self.covariance_matrix[index])\n",
    "        cov_matrix_inv = np.linalg.pinv(self.covariance_matrix[index])\n",
    "        Xm = X - self.means[index]\n",
    "        Xm_covariance = (Xm @ cov_matrix_inv) @ Xm.T\n",
    "        Xm_covariance_sum = Xm_covariance.sum(axis=1)\n",
    "        return -0.5 * Xm_covariance_sum - 0.5 * np.log(cov_matrix_det) + np.log(self.priors[index])\n",
    "\n",
    "    def fix(self):\n",
    "        self.calculate_prior()\n",
    "        self.calculate_mean()\n",
    "\n",
    "def mostrarFallos(fallos,dataPath):\n",
    "    dataset=open(dataPath,'r')\n",
    "    lineas=dataset.readlines()\n",
    "\n",
    "    imaxes=[]\n",
    "\n",
    "    for indx in fallos:\n",
    "        if indx<=65:\n",
    "            imaxes.append('botellas/'+str(indx)+'.jpg')\n",
    "\n",
    "        elif indx>65 and indx<=84:\n",
    "            imaxes.append('bolboretas/'+str(indx-65)+'.jpg')\n",
    "\n",
    "        elif indx>=85:\n",
    "            imaxes.append('cubertos/'+str(indx-85)+'.jpg')\n",
    "\n",
    "    frame1 = plt.gca()\n",
    "    frame1.axes.get_xaxis().set_visible(False)\n",
    "    frame1.axes.get_yaxis().set_visible(False)\n",
    "\n",
    "    for i in range(len(imaxes)):\n",
    "        img = cv2.imread(imaxes[i], 0)\n",
    "        plt.subplot(1, len(imaxes), i+1, frame_on=False)\n",
    "\n",
    "        plt.imshow(img, cmap=\"gray\")\n",
    "\n",
    "        plt.xticks([])\n",
    "        plt.yticks([])\n",
    "\n",
    "    dataset.close()\n",
    "\n",
    "    plt.show()"
   ]
  },
  {
   "cell_type": "markdown",
   "id": "88b8235c",
   "metadata": {},
   "source": [
    "<h2>Adestramento, test e avaliación</h2>\n",
    "\n",
    "Cargamos os tres datasets, adestramos o clasificador con cada un e avaliamos. Cárganse tamén os dataset que correspoden aos métodos baseados en contorno para facilitar a comparación.\n",
    "\n",
    "O dataset 1 corresponde coa función radial, o 2 cos descritores de Fourier e o 3 cos descritores dos momentos invariantes de Hu."
   ]
  },
  {
   "cell_type": "code",
   "execution_count": 15,
   "id": "0ee79b1c",
   "metadata": {},
   "outputs": [
    {
     "name": "stdout",
     "output_type": "stream",
     "text": [
      "\n",
      "\n",
      "------Entrenamiento Dataset 6------\n",
      "Train ACC = 80.43478260869566\n",
      "Train confusion matrix = \n",
      "[[10  3  1]\n",
      " [ 8 41  3]\n",
      " [ 0  3 23]]\n",
      "Train precission = [0.55555556 0.87234043 0.85185185]\n",
      "Train recall = [0.71428571 0.78846154 0.88461538]\n",
      "Train F1_score = [0.625      0.82828283 0.86792453]\n",
      "\n",
      "------Test Dataset 6------\n",
      "test ACC = 86.95652173913044 \n",
      "\n",
      "Test     confusion matrix = \n",
      "[[ 4  0  1]\n",
      " [ 0 11  1]\n",
      " [ 0  1  5]]\n",
      "Test precission = [1.         0.91666667 0.71428571]\n",
      "Test recall = [0.8        0.91666667 0.83333333]\n",
      "Test F1_score = [0.88888889 0.91666667 0.76923077]\n"
     ]
    },
    {
     "data": {
      "image/png": "[encoded data removed]",
      "text/plain": [
       "<Figure size 640x480 with 3 Axes>"
      ]
     },
     "metadata": {},
     "output_type": "display_data"
    }
   ],
   "source": [
    "listdata = ['ClasificadoresBy/dataset6.csv']\n",
    "\n",
    "resultados=[]\n",
    "with open(listdata[0], 'r') as dataset:\n",
    "    for linea in dataset:\n",
    "        # Dividir la línea por comas y convertir cada elemento a un número flotante\n",
    "        elementos = [float(e) for e in linea.strip().split(',')[:-1]]\n",
    "        elementos_redondeados = [round(e, 8) for e in elementos]\n",
    "        resultados.append(elementos_redondeados)\n",
    "\n",
    "rawData = load_data(listdata[0])\n",
    "data = Data(rawData, bias=False)\n",
    "#Instantacionamos e adestramos\n",
    "model_q = ByQuadratic(data)\n",
    "model_q.fix()\n",
    "\n",
    "#Predecimos co modelos adestrado os datos de adestramento\n",
    "# e test. Ollo: non se gardan os datos derivados do adestramento\n",
    "#Ti debes gardalos en disco e lelos cando os precises.\n",
    "predicted_train = model_q.predict(data.trainData)\n",
    "predicted_test = model_q.predict(data.testData)\n",
    "\n",
    "print(f\"\\n\\n------Entrenamiento Dataset {listdata[0][-5]}------\")\n",
    "\n",
    "print(f\"Train ACC = {accuracy_metric(data.trainLabel, predicted_train)}\")\n",
    "print(f\"Train confusion matrix = \\n{confusion_matrix(data.trainLabel,np.asarray(predicted_train))}\")\n",
    "print(f\"Train precission = {precision_score(data.trainLabel,np.asarray(predicted_train),average=None)}\")\n",
    "print(f\"Train recall = {recall_score(data.trainLabel,np.asarray(predicted_train),average=None)}\")\n",
    "print(f\"Train F1_score = {f1_score(data.trainLabel,np.asarray(predicted_train),average=None)}\")\n",
    "\n",
    "print(f\"\\n------Test Dataset {listdata[0][-5]}------\")\n",
    "\n",
    "print(f\"test ACC = {accuracy_metric(data.testLabel, np.asarray(predicted_test))} \\n\")\n",
    "print(f\"Test     confusion matrix = \\n{confusion_matrix(data.testLabel,np.asarray(predicted_test))}\")\n",
    "print(f\"Test precission = {precision_score(data.testLabel,np.asarray(predicted_test),average=None)}\")\n",
    "print(f\"Test recall = {recall_score(data.testLabel,np.asarray(predicted_test),average=None)}\")\n",
    "print(f\"Test F1_score = {f1_score(data.testLabel,np.asarray(predicted_test),average=None)}\")\n",
    "\n",
    "fallos=[]\n",
    "misclassified_indices = np.where(data.testLabel != np.asarray(predicted_test).T[0])\n",
    "\n",
    "for misclassified_index in misclassified_indices[0]:\n",
    "    for idx, vector in enumerate(resultados):\n",
    "        if np.linalg.norm(data.testData[misclassified_index] - np.array(vector))<0.000001:\n",
    "            fallos.append(idx)\n",
    "            \n",
    "mostrarFallos(fallos,listdata[0])"
   ]
  },
  {
   "cell_type": "markdown",
   "id": "36e924cb",
   "metadata": {},
   "source": [
    "<h2>Análise de resultados</h2>"
   ]
  },
  {
   "cell_type": "markdown",
   "id": "f705f697",
   "metadata": {},
   "source": [
    "A matriz de confusión mostra que hai un total de 8 verdadeiros negativos e 4 verdadeiros positivos, con 1 falso positivo e 5 falsos negativos. Clasificanse moi ben as instancias da clase 1 (80% de precisión), en cambio, as imaxes de clase 0, só se clasificaron correctamente no 61.5%. O recall mostra que se identificaron de maneira correcta máis imaxes da clase 0 que da clase 1, unha posible causa sería unha maior diversidade nas formas dos cotornos, que permite xeralizar mellor, os contornos da clase 1 son moi similares en área.\n",
    "\n",
    "En comparación aos clasificadores de contorno, funciona peor que os dous clasificadores. Isto débese a que os contornos das botellas son moi similares en área, e diferencianse en detalles finos, é dicir, varias imaxes de distintas botellas que se diferencian só no pescozo ou na base darán o mesmo resultado que pasarlle a mesma imaxe varias veces porque os detalles describense mellor cos puntos do contorno externo. Este tamén é o motivo polo que se distinguen mellor as imaxes da clase cero que as da clase 1, hai unha gran diversidade na área das bolboretas."
   ]
  }
 ],
 "metadata": {
  "kernelspec": {
   "display_name": "Python 3 (ipykernel)",
   "language": "python",
   "name": "python3"
  },
  "language_info": {
   "codemirror_mode": {
    "name": "ipython",
    "version": 3
   },
   "file_extension": ".py",
   "mimetype": "text/x-python",
   "name": "python",
   "nbconvert_exporter": "python",
   "pygments_lexer": "ipython3",
   "version": "3.10.12"
  }
 },
 "nbformat": 4,
 "nbformat_minor": 5
}
