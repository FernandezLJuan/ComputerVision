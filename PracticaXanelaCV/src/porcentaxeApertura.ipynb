{
 "cells": [
  {
   "cell_type": "markdown",
   "id": "e7e42d34",
   "metadata": {},
   "source": [
    "Código para estimar a porcentaxe de apertura dunha Xanela en unha granxa porcina. Nesta implementación empréganse varias técnicas de preprocesado como erosión, dilatación e filtrado Gaussiano; para estimar a porcentaxe aplicanse detectores de bordes de canny e de hough, que permiten ter unha idea de ónde se atopa o listón en cada momento."
   ]
  },
  {
   "cell_type": "code",
   "execution_count": 1,
   "id": "6644b3d0",
   "metadata": {},
   "outputs": [],
   "source": [
    "###############################\n",
    "##Autor: Juan López Fernández##\n",
    "##Data: outubro de 2023      ##\n",
    "##Materia: Visión Artificial ##\n",
    "###############################\n",
    "\n",
    "\n",
    "import cv2\n",
    "import time\n",
    "import numpy as np \n",
    "from matplotlib import pyplot as plt\n",
    "import os"
   ]
  },
  {
   "cell_type": "code",
   "execution_count": 2,
   "id": "2528fe06",
   "metadata": {},
   "outputs": [],
   "source": [
    "#definimos as coordenadas dos puntos nos que se fai click puntosOrixe ,e dos puntos destino da homografía\n",
    "puntosOrixe = []\n",
    "puntosDestino = [[0, 0], [500, 0], [500, 255], [0, 255]]\n",
    "\n",
    "def onClick(event, x, y, flags, param):\n",
    "    global puntosOrixe\n",
    "\n",
    "    #gardamos as coordenadas do punto onde fai click o usuario\n",
    "    if event == cv2.EVENT_LBUTTONDOWN:\n",
    "        if len(puntosOrixe) < 4:\n",
    "            puntosOrixe.append([x, y])\n",
    "            cv2.circle(canvas, (x, y), 3, (0, 255, 0), 2)\n",
    "            cv2.imshow(\"primeiro frame\", canvas)  #actualiza a ventá para mostrar onde se fixo click"
   ]
  },
  {
   "cell_type": "code",
   "execution_count": 3,
   "id": "98d5d6dc",
   "metadata": {},
   "outputs": [
    {
     "name": "stderr",
     "output_type": "stream",
     "text": [
      "Warning: Ignoring XDG_SESSION_TYPE=wayland on Gnome. Use QT_QPA_PLATFORM=wayland to run on Wayland anyway.\n"
     ]
    }
   ],
   "source": [
    "#cargamos o video e capturamos o primeiro frame\n",
    "source = \"../DATA/proba.mp4\"\n",
    "cap = cv2.VideoCapture(source)\n",
    "\n",
    "#mostramos o primeiro frame e capturamos os eventos do rato sobre o mesmo, \n",
    "#pechase a ventá de opencv cando se pulsa algunha tecla\n",
    "cv2.namedWindow(\"primeiro frame\")\n",
    "cv2.setMouseCallback(\"primeiro frame\", onClick)\n",
    "\n",
    "ret, primeiro_frame = cap.read()\n",
    "canvas = primeiro_frame.copy()\n",
    "cv2.imshow(\"primeiro frame\", canvas)\n",
    "\n",
    "cv2.waitKey(0)\n",
    "if len(puntosOrixe)<4:\n",
    "    print(\"Non se capturaron suficientes puntos\")\n",
    "    os.exit()\n",
    "cv2.destroyAllWindows()\n",
    "\n",
    "puntosOrixe = np.array(puntosOrixe, dtype=np.int32)\n",
    "puntosDestino = np.array(puntosDestino, dtype=np.int32)"
   ]
  },
  {
   "cell_type": "code",
   "execution_count": 4,
   "id": "f47057e7",
   "metadata": {},
   "outputs": [],
   "source": [
    "#buscamos a homografía entre os puntos do usuario e os puntos finais\n",
    "h, status = cv2.findHomography(puntosOrixe, puntosDestino)\n",
    "\n",
    "#definimos un kernel que despois empregamos para facer erosión e dilatación\n",
    "Kernel = (5, 5)\n",
    "k1 = cv2.getStructuringElement(cv2.MORPH_ELLIPSE, Kernel)\n",
    "\n",
    "#kernel para axudarnos a eliminar bordes non horizontais detectados por canny\n",
    "filtroHorizontal=np.array([[-1,-2,-1],[0,0,0],[1,2,1]])\n",
    "\n",
    "#Ventá na que se reproducirá o vídeo\n",
    "cv2.namedWindow(\"xanela granxa\")"
   ]
  },
  {
   "cell_type": "code",
   "execution_count": 5,
   "id": "2bb96fe0",
   "metadata": {},
   "outputs": [
    {
     "name": "stdout",
     "output_type": "stream",
     "text": [
      "rematando sesión\n"
     ]
    }
   ],
   "source": [
    "while True:\n",
    "    ret, frame = cap.read()\n",
    "\n",
    "    if not ret:\n",
    "        print(\"Non hai frame\")\n",
    "        break\n",
    "\n",
    "    #aplicamos a homografía o frame\n",
    "    imaxeDestino = cv2.warpPerspective(frame, h, (500, 255))\n",
    "    l, a, b = cv2.split(cv2.cvtColor(imaxeDestino, cv2.COLOR_BGR2Lab))\n",
    "    mediaLuz=np.mean(l)\n",
    "    #convertindo o frame a espazo Lab, podemos saber se é de día ou de noite calculando a media de luz no frame\n",
    "\n",
    "    #Se hai moita luz, é de día, aplicamos erosión para resaltar o borde da ventá (negro) e atenuar a luz diurna\n",
    "    if mediaLuz > 100:\n",
    "        limiar = 50\n",
    "        frameCorrixido = cv2.erode(imaxeDestino, k1)\n",
    "\n",
    "    #se é de noite facemos o contrario, resaltamos o borde da ventá (branco porque lle está apuntando unha luz)\n",
    "    else:\n",
    "        limiar = 18\n",
    "        frameCorrixido = cv2.dilate(imaxeDestino, k1)\n",
    "        \n",
    "    ##Ademais da erosión ou dilatación, defínese o limiar empregado para o detector de canny\n",
    "\n",
    "    #aplicamos unha gaussiana para eliminar o ruido aleatorio que hay no video, \n",
    "    #sobre todo pola noite onde o efecto é máis notable\n",
    "    frameCorrixido = cv2.GaussianBlur(frameCorrixido, (9, 9), 2)\n",
    "\n",
    "    #cun detector de bordes de Canny quedámonos cos bordes do listón da ventá\n",
    "    bordeXanela = cv2.Canny(frameCorrixido, threshold1=limiar,threshold2=limiar * 3)\n",
    "    bordeXanela=cv2.filter2D(bordeXanela,-1,filtroHorizontal)\n",
    "\n",
    "    #aplicamos a transformada de hough os bordes detectados por canny\n",
    "    #axustando ben o limiar podemos quedarnos só cos bordes horizontais, é dicir, cos do listón\n",
    "    imaxeDestino=cv2.merge((l,a,b))\n",
    "    imaxeDestino=cv2.cvtColor(imaxeDestino,cv2.COLOR_Lab2BGR)\n",
    "    lineas = cv2.HoughLines(bordeXanela, 1, np.pi/180, threshold=160)\n",
    "\n",
    "    #nesta lista gardanse as distancias de cada liña detectada por hough o borde inferior da xanela de opencv\n",
    "    distancias=[]\n",
    "\n",
    "    if lineas is not None:\n",
    "        for rho, theta in lineas[:, 0]:\n",
    "            a = np.cos(theta)\n",
    "            b = np.sin(theta)\n",
    "            x0 = a * rho\n",
    "            y0 = b * rho\n",
    "            x1 = int(x0 + 1000 * (-b))\n",
    "            y1 = int(y0 + 1000 * (a))\n",
    "            x2 = int(x0 - 1000 * (-b))\n",
    "            y2 = int(y0 - 1000 * (a))\n",
    "\n",
    "            cv2.line(imaxeDestino,(x1,y1),(x2,y2),(0,0,255),2)\n",
    "\n",
    "            distancia=255-y0\n",
    "            distancias.append(distancia)\n",
    "\n",
    "    if len(distancias)>0:\n",
    "        #para saber cómo de pechada está a ventá calculamos a media das distancias o borde inferior da xanela\n",
    "        #e calculamos a porcentaxe\n",
    "        meanD=np.mean(distancias)\n",
    "        aberta=(meanD/puntosDestino[2][1])*100\n",
    "        cerrada=100-aberta\n",
    "        \n",
    "        #hai veces que detecta máis de unha liña inda que só se vexa un borde (cando está pechada)\n",
    "        #cando o porcentaxe é maior a 92.5 e se ven poucas liñas, significa que está pechada\n",
    "        if cerrada>92.5 and len(lineas)<=2:\n",
    "            aberta=0\n",
    "\n",
    "        cerrada=100-aberta\n",
    "\n",
    "        cerrada=round(cerrada,2)\n",
    "        aberta=round(aberta,2)\n",
    "\n",
    "    #mostramos a porcentaxe de aberta e pechada da ventá da granxa no frame\n",
    "    imaxeDestino = cv2.putText(imaxeDestino, \"pechada: \", (365, 25),cv2.FONT_HERSHEY_SIMPLEX, 0.5, (128, 0, 128),2, cv2.LINE_AA, False)\n",
    "    imaxeDestino = cv2.putText(imaxeDestino, \"aberta: \", (365, 50),cv2.FONT_HERSHEY_SIMPLEX , 0.5, (128, 0, 128),2, cv2.LINE_AA, False)\n",
    "    imaxeDestino = cv2.putText(imaxeDestino, str(cerrada)+'%', (445, 25),cv2.FONT_HERSHEY_SIMPLEX, 0.5, (128, 0, 128),2, cv2.LINE_AA, False)\n",
    "    imaxeDestino = cv2.putText(imaxeDestino, str(aberta)+'%', (445, 50),cv2.FONT_HERSHEY_SIMPLEX , 0.5, (128, 0, 128),2, cv2.LINE_AA, False)\n",
    "\n",
    "    cv2.imshow(\"xanela granxa\", imaxeDestino)\n",
    "\n",
    "    if cv2.waitKey(1000 // 60) == 113:\n",
    "        print(\"rematando sesión\")\n",
    "        break"
   ]
  },
  {
   "cell_type": "code",
   "execution_count": 6,
   "id": "e90dbe24",
   "metadata": {},
   "outputs": [],
   "source": [
    "cap.release()\n",
    "cv2.destroyAllWindows()"
   ]
  }
 ],
 "metadata": {
  "kernelspec": {
   "display_name": "Python 3 (ipykernel)",
   "language": "python",
   "name": "python3"
  },
  "language_info": {
   "codemirror_mode": {
    "name": "ipython",
    "version": 3
   },
   "file_extension": ".py",
   "mimetype": "text/x-python",
   "name": "python",
   "nbconvert_exporter": "python",
   "pygments_lexer": "ipython3",
   "version": "3.10.12"
  }
 },
 "nbformat": 4,
 "nbformat_minor": 5
}
