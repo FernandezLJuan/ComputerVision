{
 "cells": [
  {
   "cell_type": "code",
   "execution_count": null,
   "id": "6644b3d0",
   "metadata": {},
   "outputs": [],
   "source": [
    "import cv2\n",
    "import time\n",
    "import numpy as np \n",
    "from matplotlib import pyplot as plt "
   ]
  },
  {
   "cell_type": "code",
   "execution_count": null,
   "id": "2528fe06",
   "metadata": {},
   "outputs": [],
   "source": [
    "def onClick(event, x, y, flags, param):\n",
    "    global puntosOrixe\n",
    "\n",
    "    if event == cv2.EVENT_LBUTTONDOWN:\n",
    "        if len(puntosOrixe) < 4:\n",
    "            puntosOrixe.append([x,y])\n",
    "            cv2.circle(canvas, (x, y), 5, (0, 255, 0), 2)\n",
    "            cv2.imshow(\"primeiro frame\", canvas)  # Actualizar la ventana"
   ]
  },
  {
   "cell_type": "code",
   "execution_count": null,
   "id": "91523ba5",
   "metadata": {},
   "outputs": [],
   "source": [
    "puntosOrixe = []\n",
    "puntosDestino=[[0,0],[500,0],[500,255],[0,255]]\n",
    "\n",
    "source = \"../DATA/proba.mp4\"\n",
    "cap = cv2.VideoCapture(source)\n",
    "\n",
    "cv2.namedWindow(\"xanela granxa\")\n",
    "cv2.setMouseCallback(\"xanela granxa\", onClick)\n",
    "\n",
    "ret, primeiro_frame = cap.read()\n",
    "canvas=primeiro_frame.copy()\n",
    "cv2.imshow(\"primeiro frame\", canvas)\n",
    "cv2.waitKey(0)\n",
    "cv2.destroyAllWindows()\n",
    "\n",
    "puntosOrixe=np.array(puntosOrixe,dtype=np.int32)\n",
    "puntosDestino=np.array(puntosDestino,dtype=np.int32)\n",
    "\n",
    "#aplicamos a homografía a xanela\n",
    "h,status=cv2.findHomography(puntosOrixe,puntosDestino)\n",
    "\n",
    "imaxeDestino=cv2.warpPerspective(primeiro_frame,h,(600,300))\n",
    "xanelaLab=cv2.cvtColor(imaxeDestino,cv2.COLOR_BGR2Lab)\n",
    "l,a,b=cv2.split(xanelaLab)\n",
    "mediaLuz=np.mean(l)\n",
    "\n",
    "print(\"Media de luminosidade: \",mediaLuz)\n",
    "\n",
    "cv2.imshow(\"warp\",imaxeDestino)\n",
    "cv2.waitKey(0)\n",
    "cv2.destroyAllWindows()\n",
    "\n",
    "cap.release()\n",
    "cv2.destroyAllWindows()"
   ]
  }
 ],
 "metadata": {
  "kernelspec": {
   "display_name": "Python 3 (ipykernel)",
   "language": "python",
   "name": "python3"
  },
  "language_info": {
   "codemirror_mode": {
    "name": "ipython",
    "version": 3
   },
   "file_extension": ".py",
   "mimetype": "text/x-python",
   "name": "python",
   "nbconvert_exporter": "python",
   "pygments_lexer": "ipython3",
   "version": "3.10.12"
  }
 },
 "nbformat": 4,
 "nbformat_minor": 5
}
